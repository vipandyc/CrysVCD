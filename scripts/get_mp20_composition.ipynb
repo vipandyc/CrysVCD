{
 "cells": [
  {
   "cell_type": "code",
   "execution_count": 29,
   "metadata": {},
   "outputs": [],
   "source": [
    "import pandas as pd\n",
    "import sys\n",
    "sys.path.append(\"..\")\n",
    "from formula_gen.formula_check import extract_composition\n",
    "import pymatgen.core.composition as comp\n",
    "import pickle"
   ]
  },
  {
   "cell_type": "code",
   "execution_count": 21,
   "metadata": {},
   "outputs": [
    {
     "data": {
      "text/plain": [
       "Composition('Na2 O3')"
      ]
     },
     "execution_count": 21,
     "metadata": {},
     "output_type": "execute_result"
    }
   ],
   "source": [
    "comp.Composition(\"Na4O6\").reduced_composition"
   ]
  },
  {
   "cell_type": "code",
   "execution_count": 6,
   "metadata": {},
   "outputs": [],
   "source": [
    "train_df = pd.read_csv(\"train.csv\")\n",
    "val_df = pd.read_csv(\"val.csv\")\n",
    "test_df = pd.read_csv(\"test.csv\")\n",
    "\n",
    "df = pd.concat([train_df, val_df, test_df])"
   ]
  },
  {
   "cell_type": "code",
   "execution_count": 22,
   "metadata": {},
   "outputs": [],
   "source": [
    "df[\"composition\"] = df[\"cif\"].apply(extract_composition)"
   ]
  },
  {
   "cell_type": "code",
   "execution_count": 42,
   "metadata": {},
   "outputs": [
    {
     "name": "stderr",
     "output_type": "stream",
     "text": [
      "/home/gridsan/wlluo/.conda/envs/crygen/lib/python3.12/site-packages/pymatgen/core/composition.py:370: UserWarning: No Pauling electronegativity for He. Setting to NaN. This has no physical meaning, and is mainly done to avoid errors caused by the code expecting a float.\n",
      "  syms = sorted(sym_amt, key=lambda sym: get_el_sp(sym).X)\n",
      "/home/gridsan/wlluo/.conda/envs/crygen/lib/python3.12/site-packages/pymatgen/core/composition.py:370: UserWarning: No Pauling electronegativity for Ne. Setting to NaN. This has no physical meaning, and is mainly done to avoid errors caused by the code expecting a float.\n",
      "  syms = sorted(sym_amt, key=lambda sym: get_el_sp(sym).X)\n",
      "/home/gridsan/wlluo/.conda/envs/crygen/lib/python3.12/site-packages/pymatgen/core/composition.py:370: UserWarning: No Pauling electronegativity for Ar. Setting to NaN. This has no physical meaning, and is mainly done to avoid errors caused by the code expecting a float.\n",
      "  syms = sorted(sym_amt, key=lambda sym: get_el_sp(sym).X)\n",
      "/home/gridsan/wlluo/.conda/envs/crygen/lib/python3.12/site-packages/pymatgen/core/composition.py:1341: UserWarning: No Pauling electronegativity for He. Setting to NaN. This has no physical meaning, and is mainly done to avoid errors caused by the code expecting a float.\n",
      "  syms = sorted(sym_amt, key=lambda x: [get_el_sp(x).X, x])\n",
      "/home/gridsan/wlluo/.conda/envs/crygen/lib/python3.12/site-packages/pymatgen/core/composition.py:1341: UserWarning: No Pauling electronegativity for Ne. Setting to NaN. This has no physical meaning, and is mainly done to avoid errors caused by the code expecting a float.\n",
      "  syms = sorted(sym_amt, key=lambda x: [get_el_sp(x).X, x])\n",
      "/home/gridsan/wlluo/.conda/envs/crygen/lib/python3.12/site-packages/pymatgen/core/composition.py:1341: UserWarning: No Pauling electronegativity for Ar. Setting to NaN. This has no physical meaning, and is mainly done to avoid errors caused by the code expecting a float.\n",
      "  syms = sorted(sym_amt, key=lambda x: [get_el_sp(x).X, x])\n"
     ]
    }
   ],
   "source": [
    "with open(\"mp20_formula.txt\", \"w\") as f:\n",
    "    f.writelines(set(comp.Composition(formula).formula + \"\\n\" for formula in df[\"composition\"]))\n",
    "\n",
    "with open(\"mp20_reduced_formula.txt\", \"w\") as f:\n",
    "    f.writelines(set(comp.Composition(formula).reduced_formula + \"\\n\" for formula in df[\"composition\"]))        "
   ]
  },
  {
   "cell_type": "code",
   "execution_count": 43,
   "metadata": {},
   "outputs": [
    {
     "data": {
      "text/plain": [
       "'Ca4 C2'"
      ]
     },
     "execution_count": 43,
     "metadata": {},
     "output_type": "execute_result"
    }
   ],
   "source": [
    "comp.Composition(\"C2Ca4\").formula"
   ]
  }
 ],
 "metadata": {
  "kernelspec": {
   "display_name": "crygen",
   "language": "python",
   "name": "python3"
  },
  "language_info": {
   "codemirror_mode": {
    "name": "ipython",
    "version": 3
   },
   "file_extension": ".py",
   "mimetype": "text/x-python",
   "name": "python",
   "nbconvert_exporter": "python",
   "pygments_lexer": "ipython3",
   "version": "3.12.8"
  }
 },
 "nbformat": 4,
 "nbformat_minor": 2
}
